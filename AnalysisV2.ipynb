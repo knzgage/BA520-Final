{
 "cells": [
  {
   "cell_type": "code",
   "execution_count": 2,
   "outputs": [],
   "source": [
    "# Install necessary packages\n",
    "import pandas as pd\n",
    "import numpy as np\n",
    "import matplotlib.pyplot as plt\n",
    "from sklearn.feature_selection import RFE\n",
    "from sklearn.linear_model import LinearRegression\n",
    "from sklearn.model_selection import train_test_split\n",
    "import seaborn as sns\n",
    "import statsmodels.api as sm"
   ],
   "metadata": {
    "collapsed": false,
    "pycharm": {
     "name": "#%%\n"
    }
   }
  },
  {
   "cell_type": "code",
   "execution_count": 3,
   "outputs": [
    {
     "data": {
      "text/plain": "   Unnamed: 0  Id      Country  HDI Rank    HDI  Life expectancy  \\\n0           0   1       Norway       1.0  0.949             81.7   \n1           1   2    Australia       2.0  0.939             82.5   \n2           2   3  Switzerland       2.0  0.939             83.1   \n3           3   4      Germany       4.0  0.926             81.1   \n4           4   5      Denmark       5.0  0.925             80.4   \n\n   Mean years of schooling  Gross national income (GNI) per capita  \\\n0                     12.7                                 67614.0   \n1                     13.2                                 42822.0   \n2                     13.4                                 56364.0   \n3                     13.2                                 45000.0   \n4                     12.7                                 44519.0   \n\n   GNI per capita rank minus HDI rank  Change in HDI rank 2010-2015  ...  \\\n0                                 5.0                           0.0  ...   \n1                                19.0                           1.0  ...   \n2                                 7.0                           0.0  ...   \n3                                13.0                           0.0  ...   \n4                                13.0                           2.0  ...   \n\n   Coefficient of human inequality  \\\n0                              5.4   \n1                              8.0   \n2                              8.4   \n3                              7.0   \n4                              7.0   \n\n   Inequality in life expectancy (%) 2010-2015  \\\n0                                          3.3   \n1                                          4.3   \n2                                          3.8   \n3                                          3.7   \n4                                          3.8   \n\n   Inequality-adjusted life expectancy index  Inequality in education(%)  \\\n0                                      0.918                         2.4   \n1                                      0.921                         1.9   \n2                                      0.934                         5.7   \n3                                      0.905                         2.6   \n4                                      0.894                         3.0   \n\n   Inequality-adjusted education index  Inequality in income (%)  \\\n0                                0.894                      10.4   \n1                                0.921                      17.7   \n2                                0.840                      15.7   \n3                                0.891                      14.8   \n4                                0.896                      14.3   \n\n   Inequality-adjusted income index  \\\n0                             0.882   \n1                             0.753   \n2                             0.806   \n3                             0.787   \n4                             0.789   \n\n   Income inequality (Quintile ratio) 2010-2015  \\\n0                                           3.8   \n1                                           6.0   \n2                                           4.9   \n3                                           4.6   \n4                                           4.5   \n\n   Income inequality (Palma ratio) 2010-2015  \\\n0                                        0.9   \n1                                        1.4   \n2                                        1.2   \n3                                        1.1   \n4                                        1.0   \n\n   Income inequality (Gini coefficient) 2010-2015  \n0                                            25.9  \n1                                            34.9  \n2                                            31.6  \n3                                            30.1  \n4                                            29.1  \n\n[5 rows x 82 columns]",
      "text/html": "<div>\n<style scoped>\n    .dataframe tbody tr th:only-of-type {\n        vertical-align: middle;\n    }\n\n    .dataframe tbody tr th {\n        vertical-align: top;\n    }\n\n    .dataframe thead th {\n        text-align: right;\n    }\n</style>\n<table border=\"1\" class=\"dataframe\">\n  <thead>\n    <tr style=\"text-align: right;\">\n      <th></th>\n      <th>Unnamed: 0</th>\n      <th>Id</th>\n      <th>Country</th>\n      <th>HDI Rank</th>\n      <th>HDI</th>\n      <th>Life expectancy</th>\n      <th>Mean years of schooling</th>\n      <th>Gross national income (GNI) per capita</th>\n      <th>GNI per capita rank minus HDI rank</th>\n      <th>Change in HDI rank 2010-2015</th>\n      <th>...</th>\n      <th>Coefficient of human inequality</th>\n      <th>Inequality in life expectancy (%) 2010-2015</th>\n      <th>Inequality-adjusted life expectancy index</th>\n      <th>Inequality in education(%)</th>\n      <th>Inequality-adjusted education index</th>\n      <th>Inequality in income (%)</th>\n      <th>Inequality-adjusted income index</th>\n      <th>Income inequality (Quintile ratio) 2010-2015</th>\n      <th>Income inequality (Palma ratio) 2010-2015</th>\n      <th>Income inequality (Gini coefficient) 2010-2015</th>\n    </tr>\n  </thead>\n  <tbody>\n    <tr>\n      <th>0</th>\n      <td>0</td>\n      <td>1</td>\n      <td>Norway</td>\n      <td>1.0</td>\n      <td>0.949</td>\n      <td>81.7</td>\n      <td>12.7</td>\n      <td>67614.0</td>\n      <td>5.0</td>\n      <td>0.0</td>\n      <td>...</td>\n      <td>5.4</td>\n      <td>3.3</td>\n      <td>0.918</td>\n      <td>2.4</td>\n      <td>0.894</td>\n      <td>10.4</td>\n      <td>0.882</td>\n      <td>3.8</td>\n      <td>0.9</td>\n      <td>25.9</td>\n    </tr>\n    <tr>\n      <th>1</th>\n      <td>1</td>\n      <td>2</td>\n      <td>Australia</td>\n      <td>2.0</td>\n      <td>0.939</td>\n      <td>82.5</td>\n      <td>13.2</td>\n      <td>42822.0</td>\n      <td>19.0</td>\n      <td>1.0</td>\n      <td>...</td>\n      <td>8.0</td>\n      <td>4.3</td>\n      <td>0.921</td>\n      <td>1.9</td>\n      <td>0.921</td>\n      <td>17.7</td>\n      <td>0.753</td>\n      <td>6.0</td>\n      <td>1.4</td>\n      <td>34.9</td>\n    </tr>\n    <tr>\n      <th>2</th>\n      <td>2</td>\n      <td>3</td>\n      <td>Switzerland</td>\n      <td>2.0</td>\n      <td>0.939</td>\n      <td>83.1</td>\n      <td>13.4</td>\n      <td>56364.0</td>\n      <td>7.0</td>\n      <td>0.0</td>\n      <td>...</td>\n      <td>8.4</td>\n      <td>3.8</td>\n      <td>0.934</td>\n      <td>5.7</td>\n      <td>0.840</td>\n      <td>15.7</td>\n      <td>0.806</td>\n      <td>4.9</td>\n      <td>1.2</td>\n      <td>31.6</td>\n    </tr>\n    <tr>\n      <th>3</th>\n      <td>3</td>\n      <td>4</td>\n      <td>Germany</td>\n      <td>4.0</td>\n      <td>0.926</td>\n      <td>81.1</td>\n      <td>13.2</td>\n      <td>45000.0</td>\n      <td>13.0</td>\n      <td>0.0</td>\n      <td>...</td>\n      <td>7.0</td>\n      <td>3.7</td>\n      <td>0.905</td>\n      <td>2.6</td>\n      <td>0.891</td>\n      <td>14.8</td>\n      <td>0.787</td>\n      <td>4.6</td>\n      <td>1.1</td>\n      <td>30.1</td>\n    </tr>\n    <tr>\n      <th>4</th>\n      <td>4</td>\n      <td>5</td>\n      <td>Denmark</td>\n      <td>5.0</td>\n      <td>0.925</td>\n      <td>80.4</td>\n      <td>12.7</td>\n      <td>44519.0</td>\n      <td>13.0</td>\n      <td>2.0</td>\n      <td>...</td>\n      <td>7.0</td>\n      <td>3.8</td>\n      <td>0.894</td>\n      <td>3.0</td>\n      <td>0.896</td>\n      <td>14.3</td>\n      <td>0.789</td>\n      <td>4.5</td>\n      <td>1.0</td>\n      <td>29.1</td>\n    </tr>\n  </tbody>\n</table>\n<p>5 rows × 82 columns</p>\n</div>"
     },
     "execution_count": 3,
     "metadata": {},
     "output_type": "execute_result"
    }
   ],
   "source": [
    "df = pd.read_csv('./input/HDI.csv')\n",
    "df.head()"
   ],
   "metadata": {
    "collapsed": false,
    "pycharm": {
     "name": "#%%\n"
    }
   }
  },
  {
   "cell_type": "code",
   "execution_count": 4,
   "outputs": [
    {
     "name": "stdout",
     "output_type": "stream",
     "text": [
      "The following countries are missing infant mortality rates and will be removed from our dataset:\n",
      "                   Country\n",
      "11  Hong Kong, China (SAR)\n",
      "14           Liechtenstein\n"
     ]
    }
   ],
   "source": [
    "# See if any countries are missing our target field, which is infant mortality\n",
    "columns = df.columns.values.tolist()\n",
    "target_col = 'Mortality rates Infant (per 1,000 live births) 2015'\n",
    "target_index = columns.index(target_col)\n",
    "missing_target = df[df[target_col].isna()]\n",
    "if not missing_target.empty:\n",
    "    print('The following countries are missing infant mortality rates and will be removed from our dataset:')\n",
    "    print(missing_target[['Country']])\n",
    "    df = df.dropna(subset=[target_col])\n",
    "else:\n",
    "    print('All countries in the dataset have information on the target value.')"
   ],
   "metadata": {
    "collapsed": false,
    "pycharm": {
     "name": "#%%\n"
    }
   }
  },
  {
   "cell_type": "code",
   "execution_count": 5,
   "outputs": [],
   "source": [
    "# Variables picked for regression based on looking at correlation matrix\n",
    "target_col = 'Mortality rates Infant (per 1,000 live births) 2015'\n",
    "reg_vars = ['Mean years of schooling',\n",
    "                  'Mean years of schooling Female',\n",
    "                  'Mean years of schooling Male',\n",
    "                  'Labour force participation rate (% ages 15 and older) Female ',\n",
    "                  'Infants lacking immunization DTP (% of one-year-olds)',\n",
    "                  'Infants lacking immunization Measles (% of one-year-olds)',\n",
    "                  'Child malnutrition Stunting (moderate or severe) 2010-2015',\n",
    "                  'Deaths due to Malria (per 100,000 people) ',\n",
    "                  'Deaths due to Tuberculosis (per 100,000 people) ',\n",
    "                  'Physicians  (per 10,000 people) 2001-2014']\n"
   ],
   "metadata": {
    "collapsed": false,
    "pycharm": {
     "name": "#%%\n"
    }
   }
  },
  {
   "cell_type": "code",
   "execution_count": 6,
   "outputs": [
    {
     "name": "stdout",
     "output_type": "stream",
     "text": [
      "Mean years of schooling                                           7\n",
      "Mean years of schooling Female                                   25\n",
      "Mean years of schooling Male                                     25\n",
      "Labour force participation rate (% ages 15 and older) Female     14\n",
      "Infants lacking immunization DTP (% of one-year-olds)             0\n",
      "Infants lacking immunization Measles (% of one-year-olds)         0\n",
      "Child malnutrition Stunting (moderate or severe) 2010-2015       51\n",
      "Deaths due to Malria (per 100,000 people)                        97\n",
      "Deaths due to Tuberculosis (per 100,000 people)                   1\n",
      "Physicians  (per 10,000 people) 2001-2014                         3\n",
      "dtype: int64\n"
     ]
    },
    {
     "data": {
      "text/plain": "       Mean years of schooling  Mean years of schooling Female  \\\ncount               186.000000                      168.000000   \nmean                  8.332258                        8.075595   \nstd                   3.091266                        3.459786   \nmin                   1.400000                        1.000000   \n25%                   6.025000                        4.975000   \n50%                   8.600000                        8.550000   \n75%                  10.900000                       10.925000   \nmax                  13.400000                       13.400000   \n\n       Mean years of schooling Male  \\\ncount                    168.000000   \nmean                       8.814881   \nstd                        2.854068   \nmin                        2.000000   \n25%                        6.475000   \n50%                        8.950000   \n75%                       11.400000   \nmax                       13.600000   \n\n       Labour force participation rate (% ages 15 and older) Female   \\\ncount                                         179.000000               \nmean                                           52.559218               \nstd                                            16.188148               \nmin                                            12.200000               \n25%                                            43.900000               \n50%                                            52.800000               \n75%                                            62.250000               \nmax                                            86.400000               \n\n       Infants lacking immunization DTP (% of one-year-olds)  \\\ncount                                         193.000000       \nmean                                            6.818653       \nstd                                             9.052121       \nmin                                             1.000000       \n25%                                             1.000000       \n50%                                             3.000000       \n75%                                             9.000000       \nmax                                            51.000000       \n\n       Infants lacking immunization Measles (% of one-year-olds)  \\\ncount                                         193.000000           \nmean                                           12.383420           \nstd                                            13.728701           \nmin                                             1.000000           \n25%                                             3.000000           \n50%                                             7.000000           \n75%                                            15.000000           \nmax                                            78.000000           \n\n       Child malnutrition Stunting (moderate or severe) 2010-2015  \\\ncount                                         142.000000            \nmean                                           22.152113            \nstd                                            13.450860            \nmin                                             1.300000            \n25%                                            10.025000            \n50%                                            20.900000            \n75%                                            32.700000            \nmax                                            57.500000            \n\n       Deaths due to Malria (per 100,000 people)   \\\ncount                                   96.000000   \nmean                                    32.289583   \nstd                                     40.121496   \nmin                                      0.000000   \n25%                                      0.100000   \n50%                                      7.500000   \n75%                                     65.275000   \nmax                                    152.600000   \n\n       Deaths due to Tuberculosis (per 100,000 people)   \\\ncount                                        192.000000   \nmean                                          13.966146   \nstd                                           21.272098   \nmin                                            0.000000   \n25%                                            0.800000   \n50%                                            3.550000   \n75%                                           17.250000   \nmax                                          120.000000   \n\n       Physicians  (per 10,000 people) 2001-2014  \ncount                                 190.000000  \nmean                                   16.516842  \nstd                                    15.940184  \nmin                                     0.100000  \n25%                                     2.225000  \n50%                                    11.750000  \n75%                                    27.300000  \nmax                                    77.400000  ",
      "text/html": "<div>\n<style scoped>\n    .dataframe tbody tr th:only-of-type {\n        vertical-align: middle;\n    }\n\n    .dataframe tbody tr th {\n        vertical-align: top;\n    }\n\n    .dataframe thead th {\n        text-align: right;\n    }\n</style>\n<table border=\"1\" class=\"dataframe\">\n  <thead>\n    <tr style=\"text-align: right;\">\n      <th></th>\n      <th>Mean years of schooling</th>\n      <th>Mean years of schooling Female</th>\n      <th>Mean years of schooling Male</th>\n      <th>Labour force participation rate (% ages 15 and older) Female</th>\n      <th>Infants lacking immunization DTP (% of one-year-olds)</th>\n      <th>Infants lacking immunization Measles (% of one-year-olds)</th>\n      <th>Child malnutrition Stunting (moderate or severe) 2010-2015</th>\n      <th>Deaths due to Malria (per 100,000 people)</th>\n      <th>Deaths due to Tuberculosis (per 100,000 people)</th>\n      <th>Physicians  (per 10,000 people) 2001-2014</th>\n    </tr>\n  </thead>\n  <tbody>\n    <tr>\n      <th>count</th>\n      <td>186.000000</td>\n      <td>168.000000</td>\n      <td>168.000000</td>\n      <td>179.000000</td>\n      <td>193.000000</td>\n      <td>193.000000</td>\n      <td>142.000000</td>\n      <td>96.000000</td>\n      <td>192.000000</td>\n      <td>190.000000</td>\n    </tr>\n    <tr>\n      <th>mean</th>\n      <td>8.332258</td>\n      <td>8.075595</td>\n      <td>8.814881</td>\n      <td>52.559218</td>\n      <td>6.818653</td>\n      <td>12.383420</td>\n      <td>22.152113</td>\n      <td>32.289583</td>\n      <td>13.966146</td>\n      <td>16.516842</td>\n    </tr>\n    <tr>\n      <th>std</th>\n      <td>3.091266</td>\n      <td>3.459786</td>\n      <td>2.854068</td>\n      <td>16.188148</td>\n      <td>9.052121</td>\n      <td>13.728701</td>\n      <td>13.450860</td>\n      <td>40.121496</td>\n      <td>21.272098</td>\n      <td>15.940184</td>\n    </tr>\n    <tr>\n      <th>min</th>\n      <td>1.400000</td>\n      <td>1.000000</td>\n      <td>2.000000</td>\n      <td>12.200000</td>\n      <td>1.000000</td>\n      <td>1.000000</td>\n      <td>1.300000</td>\n      <td>0.000000</td>\n      <td>0.000000</td>\n      <td>0.100000</td>\n    </tr>\n    <tr>\n      <th>25%</th>\n      <td>6.025000</td>\n      <td>4.975000</td>\n      <td>6.475000</td>\n      <td>43.900000</td>\n      <td>1.000000</td>\n      <td>3.000000</td>\n      <td>10.025000</td>\n      <td>0.100000</td>\n      <td>0.800000</td>\n      <td>2.225000</td>\n    </tr>\n    <tr>\n      <th>50%</th>\n      <td>8.600000</td>\n      <td>8.550000</td>\n      <td>8.950000</td>\n      <td>52.800000</td>\n      <td>3.000000</td>\n      <td>7.000000</td>\n      <td>20.900000</td>\n      <td>7.500000</td>\n      <td>3.550000</td>\n      <td>11.750000</td>\n    </tr>\n    <tr>\n      <th>75%</th>\n      <td>10.900000</td>\n      <td>10.925000</td>\n      <td>11.400000</td>\n      <td>62.250000</td>\n      <td>9.000000</td>\n      <td>15.000000</td>\n      <td>32.700000</td>\n      <td>65.275000</td>\n      <td>17.250000</td>\n      <td>27.300000</td>\n    </tr>\n    <tr>\n      <th>max</th>\n      <td>13.400000</td>\n      <td>13.400000</td>\n      <td>13.600000</td>\n      <td>86.400000</td>\n      <td>51.000000</td>\n      <td>78.000000</td>\n      <td>57.500000</td>\n      <td>152.600000</td>\n      <td>120.000000</td>\n      <td>77.400000</td>\n    </tr>\n  </tbody>\n</table>\n</div>"
     },
     "execution_count": 6,
     "metadata": {},
     "output_type": "execute_result"
    }
   ],
   "source": [
    "df_x = df.loc[:, reg_vars]\n",
    "df_y = df.loc[:, target_col]\n",
    "print(df_x.isnull().sum())\n",
    "df_x.describe()"
   ],
   "metadata": {
    "collapsed": false,
    "pycharm": {
     "name": "#%%\n"
    }
   }
  },
  {
   "cell_type": "code",
   "execution_count": 7,
   "outputs": [
    {
     "name": "stdout",
     "output_type": "stream",
     "text": [
      "Filling null values with mean value of their respective variable\n",
      "Mean years of schooling                                          0\n",
      "Mean years of schooling Female                                   0\n",
      "Mean years of schooling Male                                     0\n",
      "Labour force participation rate (% ages 15 and older) Female     0\n",
      "Infants lacking immunization DTP (% of one-year-olds)            0\n",
      "Infants lacking immunization Measles (% of one-year-olds)        0\n",
      "Child malnutrition Stunting (moderate or severe) 2010-2015       0\n",
      "Deaths due to Malria (per 100,000 people)                        0\n",
      "Deaths due to Tuberculosis (per 100,000 people)                  0\n",
      "Physicians  (per 10,000 people) 2001-2014                        0\n",
      "dtype: int64\n"
     ]
    }
   ],
   "source": [
    "# Fill missing values with the mean of that column\n",
    "print(\"Filling null values with mean value of their respective variable\")\n",
    "df_x.fillna(df_x.mean(), inplace=True)\n",
    "print(str(df_x.isnull().sum()))"
   ],
   "metadata": {
    "collapsed": false,
    "pycharm": {
     "name": "#%%\n"
    }
   }
  },
  {
   "cell_type": "code",
   "execution_count": 8,
   "outputs": [
    {
     "name": "stdout",
     "output_type": "stream",
     "text": [
      "score:  0.808136505376418\n",
      "Model slope:  {'Mean years of schooling': -1.9308952952820524, 'Mean years of schooling Female': -2.2920094544818888, 'Mean years of schooling Male': 2.449771736125112, 'Labour force participation rate (% ages 15 and older) Female ': 0.032918898658537595, 'Infants lacking immunization DTP (% of one-year-olds)': 0.6354716070976296, 'Infants lacking immunization Measles (% of one-year-olds)': -0.17675815507451006, 'Child malnutrition Stunting (moderate or severe) 2010-2015': 0.1703728973992519, 'Deaths due to Malria (per 100,000 people) ': 0.17716508419242688, 'Deaths due to Tuberculosis (per 100,000 people) ': 0.26292442433095253, 'Physicians  (per 10,000 people) 2001-2014': -0.2639617840613093}\n",
      "Model intercept:  24.31763555736603\n"
     ]
    }
   ],
   "source": [
    "# Run regression on all 10 vars, using all records for initial fit\n",
    "reg = LinearRegression()\n",
    "reg.fit(df_x, df_y)\n",
    "train_slopes = dict(zip(reg_vars, reg.coef_))\n",
    "print(\"score: \", reg.score(df_x, df_y))\n",
    "print(\"Model slope: \", train_slopes)\n",
    "print(\"Model intercept: \", reg.intercept_)\n"
   ],
   "metadata": {
    "collapsed": false,
    "pycharm": {
     "name": "#%%\n"
    }
   }
  },
  {
   "cell_type": "code",
   "execution_count": 9,
   "outputs": [
    {
     "name": "stdout",
     "output_type": "stream",
     "text": [
      "                                             OLS Regression Results                                            \n",
      "===============================================================================================================\n",
      "Dep. Variable:     Mortality rates Infant (per 1,000 live births) 2015   R-squared:                       0.808\n",
      "Model:                                                             OLS   Adj. R-squared:                  0.798\n",
      "Method:                                                  Least Squares   F-statistic:                     76.66\n",
      "Date:                                                 Sat, 03 Jun 2023   Prob (F-statistic):           7.76e-60\n",
      "Time:                                                         21:11:56   Log-Likelihood:                -710.59\n",
      "No. Observations:                                                  193   AIC:                             1443.\n",
      "Df Residuals:                                                      182   BIC:                             1479.\n",
      "Df Model:                                                           10                                         \n",
      "Covariance Type:                                             nonrobust                                         \n",
      "=================================================================================================================================\n",
      "                                                                    coef    std err          t      P>|t|      [0.025      0.975]\n",
      "---------------------------------------------------------------------------------------------------------------------------------\n",
      "const                                                            24.3176      5.039      4.825      0.000      14.374      34.261\n",
      "Mean years of schooling                                          -1.9309      0.928     -2.081      0.039      -3.761      -0.100\n",
      "Mean years of schooling Female                                   -2.2920      0.963     -2.380      0.018      -4.192      -0.392\n",
      "Mean years of schooling Male                                      2.4498      1.101      2.226      0.027       0.278       4.621\n",
      "Labour force participation rate (% ages 15 and older) Female      0.0329      0.051      0.650      0.517      -0.067       0.133\n",
      "Infants lacking immunization DTP (% of one-year-olds)             0.6355      0.178      3.560      0.000       0.283       0.988\n",
      "Infants lacking immunization Measles (% of one-year-olds)        -0.1768      0.127     -1.387      0.167      -0.428       0.075\n",
      "Child malnutrition Stunting (moderate or severe) 2010-2015        0.1704      0.089      1.920      0.056      -0.005       0.345\n",
      "Deaths due to Malria (per 100,000 people)                         0.1772      0.030      5.991      0.000       0.119       0.236\n",
      "Deaths due to Tuberculosis (per 100,000 people)                   0.2629      0.045      5.840      0.000       0.174       0.352\n",
      "Physicians  (per 10,000 people) 2001-2014                        -0.2640      0.065     -4.062      0.000      -0.392      -0.136\n",
      "==============================================================================\n",
      "Omnibus:                       38.793   Durbin-Watson:                   2.398\n",
      "Prob(Omnibus):                  0.000   Jarque-Bera (JB):               75.457\n",
      "Skew:                           0.968   Prob(JB):                     4.12e-17\n",
      "Kurtosis:                       5.373   Cond. No.                         537.\n",
      "==============================================================================\n",
      "\n",
      "Notes:\n",
      "[1] Standard Errors assume that the covariance matrix of the errors is correctly specified.\n"
     ]
    }
   ],
   "source": [
    "df_x2 = sm.add_constant(df_x)\n",
    "est = sm.OLS(df_y, df_x2)\n",
    "est2 = est.fit()\n",
    "print(est2.summary())"
   ],
   "metadata": {
    "collapsed": false,
    "pycharm": {
     "name": "#%%\n"
    }
   }
  },
  {
   "cell_type": "code",
   "execution_count": 10,
   "outputs": [
    {
     "data": {
      "text/plain": "   Mean years of schooling  Mean years of schooling Female  \\\n0                     12.7                            12.8   \n1                     13.2                            13.4   \n2                     13.4                            13.3   \n3                     13.2                            12.9   \n4                     12.7                            12.6   \n\n   Mean years of schooling Male  \\\n0                          12.7   \n1                          13.0   \n2                          13.5   \n3                          13.6   \n4                          12.9   \n\n   Infants lacking immunization DTP (% of one-year-olds)  \\\n0                                                1.0       \n1                                                8.0       \n2                                                2.0       \n3                                                2.0       \n4                                                4.0       \n\n   Deaths due to Malria (per 100,000 people)   \\\n0                                   32.289583   \n1                                   32.289583   \n2                                   32.289583   \n3                                   32.289583   \n4                                   32.289583   \n\n   Deaths due to Tuberculosis (per 100,000 people)   \\\n0                                               0.2   \n1                                               0.2   \n2                                               0.1   \n3                                               0.4   \n4                                               0.4   \n\n   Physicians  (per 10,000 people) 2001-2014  \n0                                       42.8  \n1                                       32.7  \n2                                       40.5  \n3                                       38.9  \n4                                       34.9  ",
      "text/html": "<div>\n<style scoped>\n    .dataframe tbody tr th:only-of-type {\n        vertical-align: middle;\n    }\n\n    .dataframe tbody tr th {\n        vertical-align: top;\n    }\n\n    .dataframe thead th {\n        text-align: right;\n    }\n</style>\n<table border=\"1\" class=\"dataframe\">\n  <thead>\n    <tr style=\"text-align: right;\">\n      <th></th>\n      <th>Mean years of schooling</th>\n      <th>Mean years of schooling Female</th>\n      <th>Mean years of schooling Male</th>\n      <th>Infants lacking immunization DTP (% of one-year-olds)</th>\n      <th>Deaths due to Malria (per 100,000 people)</th>\n      <th>Deaths due to Tuberculosis (per 100,000 people)</th>\n      <th>Physicians  (per 10,000 people) 2001-2014</th>\n    </tr>\n  </thead>\n  <tbody>\n    <tr>\n      <th>0</th>\n      <td>12.7</td>\n      <td>12.8</td>\n      <td>12.7</td>\n      <td>1.0</td>\n      <td>32.289583</td>\n      <td>0.2</td>\n      <td>42.8</td>\n    </tr>\n    <tr>\n      <th>1</th>\n      <td>13.2</td>\n      <td>13.4</td>\n      <td>13.0</td>\n      <td>8.0</td>\n      <td>32.289583</td>\n      <td>0.2</td>\n      <td>32.7</td>\n    </tr>\n    <tr>\n      <th>2</th>\n      <td>13.4</td>\n      <td>13.3</td>\n      <td>13.5</td>\n      <td>2.0</td>\n      <td>32.289583</td>\n      <td>0.1</td>\n      <td>40.5</td>\n    </tr>\n    <tr>\n      <th>3</th>\n      <td>13.2</td>\n      <td>12.9</td>\n      <td>13.6</td>\n      <td>2.0</td>\n      <td>32.289583</td>\n      <td>0.4</td>\n      <td>38.9</td>\n    </tr>\n    <tr>\n      <th>4</th>\n      <td>12.7</td>\n      <td>12.6</td>\n      <td>12.9</td>\n      <td>4.0</td>\n      <td>32.289583</td>\n      <td>0.4</td>\n      <td>34.9</td>\n    </tr>\n  </tbody>\n</table>\n</div>"
     },
     "execution_count": 10,
     "metadata": {},
     "output_type": "execute_result"
    }
   ],
   "source": [
    "# Dropping variables where p-value > 0.05\n",
    "vars_to_drop = ['Labour force participation rate (% ages 15 and older) Female ',\n",
    "                'Infants lacking immunization Measles (% of one-year-olds)',\n",
    "                'Child malnutrition Stunting (moderate or severe) 2010-2015']\n",
    "\n",
    "new_vars = [var for var in reg_vars if var not in vars_to_drop]\n",
    "df_x = df_x.loc[:, new_vars]\n",
    "df_x.head()"
   ],
   "metadata": {
    "collapsed": false,
    "pycharm": {
     "name": "#%%\n"
    }
   }
  },
  {
   "cell_type": "code",
   "execution_count": 11,
   "outputs": [
    {
     "name": "stdout",
     "output_type": "stream",
     "text": [
      "score:  0.8100718969549778\n",
      "Model slope:  {'Mean years of schooling': -2.463970131593848, 'Mean years of schooling Female': -2.6679215123032587, 'Mean years of schooling Male': 3.5128850973177137, 'Infants lacking immunization DTP (% of one-year-olds)': 0.6370479974729782, 'Deaths due to Malria (per 100,000 people) ': 0.17372389589953327, 'Deaths due to Tuberculosis (per 100,000 people) ': 0.23482737816102128, 'Physicians  (per 10,000 people) 2001-2014': -0.2931104967961959}\n",
      "Model intercept:  27.23525022036633\n",
      "score:  0.7458172386631148\n"
     ]
    },
    {
     "ename": "NameError",
     "evalue": "name 'new_est' is not defined",
     "output_type": "error",
     "traceback": [
      "\u001B[1;31m---------------------------------------------------------------------------\u001B[0m",
      "\u001B[1;31mNameError\u001B[0m                                 Traceback (most recent call last)",
      "\u001B[1;32m~\\AppData\\Local\\Temp\\ipykernel_20436\\1096452432.py\u001B[0m in \u001B[0;36m<module>\u001B[1;34m\u001B[0m\n\u001B[0;32m      9\u001B[0m \u001B[0my_pred\u001B[0m \u001B[1;33m=\u001B[0m \u001B[0mmodel\u001B[0m\u001B[1;33m.\u001B[0m\u001B[0mpredict\u001B[0m\u001B[1;33m(\u001B[0m\u001B[0mX_test\u001B[0m\u001B[1;33m)\u001B[0m\u001B[1;33m\u001B[0m\u001B[1;33m\u001B[0m\u001B[0m\n\u001B[0;32m     10\u001B[0m \u001B[0mprint\u001B[0m\u001B[1;33m(\u001B[0m\u001B[1;34m\"score: \"\u001B[0m\u001B[1;33m,\u001B[0m \u001B[0mmodel\u001B[0m\u001B[1;33m.\u001B[0m\u001B[0mscore\u001B[0m\u001B[1;33m(\u001B[0m\u001B[0mX_test\u001B[0m\u001B[1;33m,\u001B[0m\u001B[0my_test\u001B[0m\u001B[1;33m)\u001B[0m\u001B[1;33m)\u001B[0m\u001B[1;33m\u001B[0m\u001B[1;33m\u001B[0m\u001B[0m\n\u001B[1;32m---> 11\u001B[1;33m \u001B[0mprint\u001B[0m\u001B[1;33m(\u001B[0m\u001B[0mnew_est\u001B[0m\u001B[1;33m.\u001B[0m\u001B[0msummary\u001B[0m\u001B[1;33m(\u001B[0m\u001B[1;33m)\u001B[0m\u001B[1;33m)\u001B[0m\u001B[1;33m\u001B[0m\u001B[1;33m\u001B[0m\u001B[0m\n\u001B[0m",
      "\u001B[1;31mNameError\u001B[0m: name 'new_est' is not defined"
     ]
    }
   ],
   "source": [
    "X_train, X_test, y_train, y_test = train_test_split(df_x, df_y, test_size = 0.3, random_state = 0)\n",
    "model = LinearRegression()\n",
    "model.fit(X_train, y_train)\n",
    "train_slopes = dict(zip(new_vars, model.coef_))\n",
    "print(\"score: \", model.score(X_train,y_train))\n",
    "print(\"Model slope: \", train_slopes)\n",
    "print(\"Model intercept: \", model.intercept_)\n",
    "\n",
    "y_pred = model.predict(X_test)\n",
    "print(\"score: \", model.score(X_test,y_test))"
   ],
   "metadata": {
    "collapsed": false,
    "pycharm": {
     "name": "#%%\n"
    }
   }
  },
  {
   "cell_type": "code",
   "execution_count": 12,
   "outputs": [
    {
     "name": "stdout",
     "output_type": "stream",
     "text": [
      "                                             OLS Regression Results                                            \n",
      "===============================================================================================================\n",
      "Dep. Variable:     Mortality rates Infant (per 1,000 live births) 2015   R-squared:                       0.801\n",
      "Model:                                                             OLS   Adj. R-squared:                  0.794\n",
      "Method:                                                  Least Squares   F-statistic:                     106.6\n",
      "Date:                                                 Sat, 03 Jun 2023   Prob (F-statistic):           1.77e-61\n",
      "Time:                                                         21:12:35   Log-Likelihood:                -713.94\n",
      "No. Observations:                                                  193   AIC:                             1444.\n",
      "Df Residuals:                                                      185   BIC:                             1470.\n",
      "Df Model:                                                            7                                         \n",
      "Covariance Type:                                             nonrobust                                         \n",
      "=========================================================================================================================\n",
      "                                                            coef    std err          t      P>|t|      [0.025      0.975]\n",
      "-------------------------------------------------------------------------------------------------------------------------\n",
      "const                                                    31.5013      3.666      8.593      0.000      24.269      38.733\n",
      "Mean years of schooling                                  -2.0848      0.926     -2.251      0.026      -3.912      -0.258\n",
      "Mean years of schooling Female                           -2.1601      0.951     -2.271      0.024      -4.037      -0.284\n",
      "Mean years of schooling Male                              2.1427      1.092      1.962      0.051      -0.012       4.297\n",
      "Infants lacking immunization DTP (% of one-year-olds)     0.4216      0.094      4.506      0.000       0.237       0.606\n",
      "Deaths due to Malria (per 100,000 people)                 0.1799      0.029      6.288      0.000       0.123       0.236\n",
      "Deaths due to Tuberculosis (per 100,000 people)           0.2809      0.043      6.516      0.000       0.196       0.366\n",
      "Physicians  (per 10,000 people) 2001-2014                -0.2534      0.065     -3.893      0.000      -0.382      -0.125\n",
      "==============================================================================\n",
      "Omnibus:                       35.368   Durbin-Watson:                   2.387\n",
      "Prob(Omnibus):                  0.000   Jarque-Bera (JB):               66.059\n",
      "Skew:                           0.903   Prob(JB):                     4.52e-15\n",
      "Kurtosis:                       5.225   Cond. No.                         253.\n",
      "==============================================================================\n",
      "\n",
      "Notes:\n",
      "[1] Standard Errors assume that the covariance matrix of the errors is correctly specified.\n"
     ]
    }
   ],
   "source": [
    "\n",
    "df_x2 = sm.add_constant(df_x)\n",
    "est = sm.OLS(df_y, df_x2)\n",
    "est2 = est.fit()\n",
    "print(est2.summary())\n"
   ],
   "metadata": {
    "collapsed": false,
    "pycharm": {
     "name": "#%%\n"
    }
   }
  }
 ],
 "metadata": {
  "kernelspec": {
   "display_name": "Python 3",
   "language": "python",
   "name": "python3"
  },
  "language_info": {
   "codemirror_mode": {
    "name": "ipython",
    "version": 2
   },
   "file_extension": ".py",
   "mimetype": "text/x-python",
   "name": "python",
   "nbconvert_exporter": "python",
   "pygments_lexer": "ipython2",
   "version": "2.7.6"
  }
 },
 "nbformat": 4,
 "nbformat_minor": 0
}